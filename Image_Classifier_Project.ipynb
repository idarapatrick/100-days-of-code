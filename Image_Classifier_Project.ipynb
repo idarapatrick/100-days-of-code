{
  "cells": [
    {
      "cell_type": "markdown",
      "metadata": {
        "id": "view-in-github",
        "colab_type": "text"
      },
      "source": [
        "<a href=\"https://colab.research.google.com/github/idarapatrick/100-days-of-code/blob/main/Image_Classifier_Project.ipynb\" target=\"_parent\"><img src=\"https://colab.research.google.com/assets/colab-badge.svg\" alt=\"Open In Colab\"/></a>"
      ]
    },
    {
      "cell_type": "markdown",
      "metadata": {
        "id": "17Yv2QugXAy4"
      },
      "source": [
        "# Developing an AI application\n",
        "\n",
        "Going forward, AI algorithms will be incorporated into more and more everyday applications. For example, you might want to include an image classifier in a smart phone app. To do this, you'd use a deep learning model trained on hundreds of thousands of images as part of the overall application architecture. A large part of software development in the future will be using these types of models as common parts of applications.\n",
        "\n",
        "In this project, you'll train an image classifier to recognize different species of flowers. You can imagine using something like this in a phone app that tells you the name of the flower your camera is looking at. In practice you'd train this classifier, then export it for use in your application. We'll be using [this dataset](http://www.robots.ox.ac.uk/~vgg/data/flowers/102/index.html) of 102 flower categories, you can see a few examples below.\n",
        "\n",
        "<img src='https://github.com/idarapatrick/aipnd-project/blob/master/assets/Flowers.png?raw=1' width=500px>\n",
        "\n",
        "The project is broken down into multiple steps:\n",
        "\n",
        "* Load and preprocess the image dataset\n",
        "* Train the image classifier on your dataset\n",
        "* Use the trained classifier to predict image content\n",
        "\n",
        "We'll lead you through each part which you'll implement in Python.\n",
        "\n",
        "When you've completed this project, you'll have an application that can be trained on any set of labeled images. Here your network will be learning about flowers and end up as a command line application. But, what you do with your new skills depends on your imagination and effort in building a dataset. For example, imagine an app where you take a picture of a car, it tells you what the make and model is, then looks up information about it. Go build your own dataset and make something new.\n",
        "\n",
        "First up is importing the packages you'll need. It's good practice to keep all the imports at the beginning of your code. As you work through this notebook and find you need to import a package, make sure to add the import up here."
      ]
    },
    {
      "cell_type": "code",
      "source": [
        "# Download the dataset\n",
        "# This cell has to run only once.\n",
        "# NO need to run every time you arrive on this notebook.\n",
        "\n",
        "import requests\n",
        "import tarfile\n",
        "import os\n",
        "import shutil\n",
        "\n",
        "# Define the URL and folder paths\n",
        "url = \"https://s3.amazonaws.com/content.udacity-data.com/nd089/flower_data.tar.gz\"\n",
        "folder_name = \"flowers\"\n",
        "file_name = \"flower_data.tar.gz\"\n",
        "file_path = os.path.join(folder_name, file_name)\n",
        "\n",
        "# Remove the folder or symbolic link if it already exists (equivalent to `rm -rf flowers`)\n",
        "try:\n",
        "    if os.path.islink(folder_name) or os.path.isfile(folder_name):\n",
        "        os.remove(folder_name)  # Remove the symbolic link or file\n",
        "    elif os.path.isdir(folder_name):\n",
        "        shutil.rmtree(folder_name)  # Remove the directory\n",
        "    print(f\"Removed existing {folder_name} folder/file/soft link, if any.\")\n",
        "except FileNotFoundError:\n",
        "    pass  # If the file or directory does not exist, do nothing\n",
        "\n",
        "# Create the folder\n",
        "os.makedirs(folder_name)\n",
        "print(f\"Created folder: {folder_name}\")\n",
        "\n",
        "# Download the file\n",
        "response = requests.get(url, stream=True)\n",
        "\n",
        "# Save the file in the 'flowers' folder\n",
        "with open(file_path, \"wb\") as file:\n",
        "    for chunk in response.iter_content(chunk_size=1024):\n",
        "        if chunk:\n",
        "            file.write(chunk)\n",
        "\n",
        "print(f\"Downloaded {file_name} to {folder_name}\")\n",
        "\n",
        "# Extract the file in the 'flowers' folder\n",
        "if file_path.endswith(\"tar.gz\"):\n",
        "    with tarfile.open(file_path, \"r:gz\") as tar:\n",
        "        tar.extractall(path=folder_name)\n",
        "        print(f\"Extracted {file_name} to {folder_name}\")\n",
        "\n",
        "# Clean up by removing the tar.gz file after extraction\n",
        "os.remove(file_path)\n",
        "print(f\"Removed the downloaded tar.gz file: {file_path}\")\n"
      ],
      "metadata": {
        "id": "CTW-DLIbc20t",
        "outputId": "73672d05-5ce7-46ee-c372-9e80ee3e664e",
        "colab": {
          "base_uri": "https://localhost:8080/"
        }
      },
      "execution_count": null,
      "outputs": [
        {
          "output_type": "stream",
          "name": "stdout",
          "text": [
            "Removed existing flowers folder/file/soft link, if any.\n",
            "Created folder: flowers\n",
            "Downloaded flower_data.tar.gz to flowers\n",
            "Extracted flower_data.tar.gz to flowers\n",
            "Removed the downloaded tar.gz file: flowers/flower_data.tar.gz\n"
          ]
        }
      ]
    },
    {
      "cell_type": "code",
      "execution_count": null,
      "metadata": {
        "id": "yGD95e80XAy8"
      },
      "outputs": [],
      "source": [
        "# Imports here\n",
        "from torchvision import datasets, transforms\n",
        "from torch.utils.data import DataLoader\n",
        "import torch\n",
        "from torchvision import models\n",
        "import torch.nn as nn\n",
        "import torch.optim as optim\n",
        "from PIL import Image\n",
        "import numpy as np\n",
        "import matplotlib.pyplot as plt\n"
      ]
    },
    {
      "cell_type": "markdown",
      "metadata": {
        "id": "HyXrcpW3XAy9"
      },
      "source": [
        "## Load the data\n",
        "\n",
        "Here you'll use `torchvision` to load the data ([documentation](http://pytorch.org/docs/0.3.0/torchvision/index.html)). The data should be included alongside this notebook, otherwise you can [download it here](https://s3.amazonaws.com/content.udacity-data.com/nd089/flower_data.tar.gz). The dataset is split into three parts, training, validation, and testing. For the training, you'll want to apply transformations such as random scaling, cropping, and flipping. This will help the network generalize leading to better performance. You'll also need to make sure the input data is resized to 224x224 pixels as required by the pre-trained networks.\n",
        "\n",
        "The validation and testing sets are used to measure the model's performance on data it hasn't seen yet. For this you don't want any scaling or rotation transformations, but you'll need to resize then crop the images to the appropriate size.\n",
        "\n",
        "The pre-trained networks you'll use were trained on the ImageNet dataset where each color channel was normalized separately. For all three sets you'll need to normalize the means and standard deviations of the images to what the network expects. For the means, it's `[0.485, 0.456, 0.406]` and for the standard deviations `[0.229, 0.224, 0.225]`, calculated from the ImageNet images.  These values will shift each color channel to be centered at 0 and range from -1 to 1.\n"
      ]
    },
    {
      "cell_type": "code",
      "execution_count": null,
      "metadata": {
        "id": "2W99JVTgXAy-"
      },
      "outputs": [],
      "source": [
        "data_dir = 'flowers'\n",
        "train_dir = data_dir + '/train'\n",
        "valid_dir = data_dir + '/valid'\n",
        "test_dir = data_dir + '/test'"
      ]
    },
    {
      "cell_type": "code",
      "execution_count": null,
      "metadata": {
        "id": "3YD_mRQ4XAy-"
      },
      "outputs": [],
      "source": [
        "# TODO: Define your transforms for the training, validation, and testing sets\n",
        "data_transforms =  {\n",
        "    'train': transforms.Compose([\n",
        "        transforms.RandomRotation(30),\n",
        "        transforms.RandomResizedCrop(224),\n",
        "        transforms.RandomHorizontalFlip(),\n",
        "        transforms.ToTensor(),\n",
        "        transforms.Normalize([0.485, 0.456, 0.406], [0.229, 0.224, 0.225])\n",
        "    ]),\n",
        "\n",
        "    'valid': transforms.Compose([\n",
        "        transforms.Resize(255),\n",
        "        transforms.CenterCrop(224),\n",
        "        transforms.ToTensor(),\n",
        "        transforms.Normalize([0.485, 0.456, 0.406], [0.229, 0.224, 0.225])\n",
        "    ]),\n",
        "\n",
        "    'test': transforms.Compose([\n",
        "        transforms.Resize(255),\n",
        "        transforms.CenterCrop(224),\n",
        "        transforms.ToTensor(),\n",
        "        transforms.Normalize([0.485, 0.456, 0.406], [0.229, 0.224, 0.225])\n",
        "    ])\n",
        "}\n",
        "\n",
        "\n",
        "# TODO: Load the datasets with ImageFolder\n",
        "image_datasets = {\n",
        "    'train': datasets.ImageFolder(train_dir, transform=data_transforms['train']),\n",
        "    'valid': datasets.ImageFolder(valid_dir, transform=data_transforms['valid']),\n",
        "    'test': datasets.ImageFolder(test_dir, transform=data_transforms['test'])\n",
        "}\n",
        "\n",
        "# TODO: Using the image datasets and the trainforms, define the dataloaders\n",
        "dataloaders =  {\n",
        "    'train': DataLoader(image_datasets['train'], batch_size=64, shuffle=True),\n",
        "    'valid': DataLoader(image_datasets['valid'], batch_size=64, shuffle=False),\n",
        "    'test': DataLoader(image_datasets['test'], batch_size=64, shuffle=False)\n",
        "}\n"
      ]
    },
    {
      "cell_type": "markdown",
      "metadata": {
        "id": "vkcpyS_SXAy_"
      },
      "source": [
        "### Label mapping\n",
        "\n",
        "You'll also need to load in a mapping from category label to category name. You can find this in the file `cat_to_name.json`. It's a JSON object which you can read in with the [`json` module](https://docs.python.org/2/library/json.html). This will give you a dictionary mapping the integer encoded categories to the actual names of the flowers."
      ]
    },
    {
      "cell_type": "code",
      "execution_count": null,
      "metadata": {
        "id": "FzHbZP9gXAy_"
      },
      "outputs": [],
      "source": [
        "import json\n",
        "\n",
        "with open('cat_to_name.json', 'r') as f:\n",
        "    cat_to_name = json.load(f)"
      ]
    },
    {
      "cell_type": "markdown",
      "metadata": {
        "id": "BKSsFh2aXAzA"
      },
      "source": [
        "# Building and training the classifier\n",
        "\n",
        "Now that the data is ready, it's time to build and train the classifier. As usual, you should use one of the pretrained models from `torchvision.models` to get the image features. Build and train a new feed-forward classifier using those features.\n",
        "\n",
        "We're going to leave this part up to you. Refer to [the rubric](https://review.udacity.com/#!/rubrics/1663/view) for guidance on successfully completing this section. Things you'll need to do:\n",
        "\n",
        "* Load a [pre-trained network](http://pytorch.org/docs/master/torchvision/models.html) (If you need a starting point, the VGG networks work great and are straightforward to use)\n",
        "* Define a new, untrained feed-forward network as a classifier, using ReLU activations and dropout\n",
        "* Train the classifier layers using backpropagation using the pre-trained network to get the features\n",
        "* Track the loss and accuracy on the validation set to determine the best hyperparameters\n",
        "\n",
        "We've left a cell open for you below, but use as many as you need. Our advice is to break the problem up into smaller parts you can run separately. Check that each part is doing what you expect, then move on to the next. You'll likely find that as you work through each part, you'll need to go back and modify your previous code. This is totally normal!\n",
        "\n",
        "When training make sure you're updating only the weights of the feed-forward network. You should be able to get the validation accuracy above 70% if you build everything right. Make sure to try different hyperparameters (learning rate, units in the classifier, epochs, etc) to find the best model. Save those hyperparameters to use as default values in the next part of the project.\n",
        "\n",
        "One last important tip if you're using the workspace to run your code: To avoid having your workspace disconnect during the long-running tasks in this notebook, please read in the earlier page in this lesson called Intro to\n",
        "GPU Workspaces about Keeping Your Session Active. You'll want to include code from the workspace_utils.py module.\n",
        "\n",
        "**Note for Workspace users:** If your network is over 1 GB when saved as a checkpoint, there might be issues with saving backups in your workspace. Typically this happens with wide dense layers after the convolutional layers. If your saved checkpoint is larger than 1 GB (you can open a terminal and check with `ls -lh`), you should reduce the size of your hidden layers and train again."
      ]
    },
    {
      "cell_type": "code",
      "execution_count": null,
      "metadata": {
        "id": "0T5esB5RXAzB"
      },
      "outputs": [],
      "source": [
        "# TODO: Build and train your network\n",
        "model = models.vgg16(weights=True)\n",
        "\n",
        "# Freeze the parameters of the pre-trained model\n",
        "for param in model.parameters():\n",
        "    param.requires_grad = False\n"
      ]
    },
    {
      "cell_type": "code",
      "source": [
        "classifier = nn.Sequential(\n",
        "    nn.Linear(25088, 4096),\n",
        "    nn.ReLU(),\n",
        "    nn.Dropout(0.2),\n",
        "    nn.Linear(4096, 102),\n",
        "    nn.LogSoftmax(dim=1)\n",
        ")\n",
        "\n",
        "model.classifier = classifier\n"
      ],
      "metadata": {
        "id": "HUJGY9jEiMRx"
      },
      "execution_count": null,
      "outputs": []
    },
    {
      "cell_type": "code",
      "source": [
        "# Define the loss function and optimizer\n",
        "criterion = nn.NLLLoss()\n",
        "optimizer = optim.Adam(model.classifier.parameters(), lr=0.001)\n"
      ],
      "metadata": {
        "id": "1FVy74r0iUZ8"
      },
      "execution_count": null,
      "outputs": []
    },
    {
      "cell_type": "code",
      "source": [
        "device = torch.device(\"cuda\" if torch.cuda.is_available() else \"cpu\")\n",
        "model.to(device)\n",
        "\n",
        "epochs = 5\n",
        "steps = 0\n",
        "running_loss = 0\n",
        "print_every = 40\n",
        "\n",
        "for epoch in range(epochs):\n",
        "    for inputs, labels in dataloaders['train']:\n",
        "        steps += 1\n",
        "\n",
        "        inputs, labels = inputs.to(device), labels.to(device)\n",
        "\n",
        "        optimizer.zero_grad()\n",
        "\n",
        "        logps = model(inputs)\n",
        "        loss = criterion(logps, labels)\n",
        "\n",
        "        loss.backward()\n",
        "        optimizer.step()\n",
        "\n",
        "        running_loss += loss.item()\n",
        "\n",
        "        if steps % print_every == 0:\n",
        "            model.eval()\n",
        "            val_loss = 0\n",
        "            accuracy = 0\n",
        "            with torch.no_grad():\n",
        "                for inputs, labels in dataloaders['valid']:\n",
        "                    inputs, labels = inputs.to(device), labels.to(device)\n",
        "                    logps = model(inputs)\n",
        "                    val_loss += criterion(logps, labels).item()\n",
        "\n",
        "                    # Calculating accuracy\n",
        "                    ps = torch.exp(logps)\n",
        "                    top_p, top_class = ps.topk(1, dim=1)\n",
        "                    equals = top_class == labels.view(*top_class.shape)\n",
        "                    accuracy += torch.mean(equals.type(torch.FloatTensor)).item()\n",
        "\n",
        "            print(f\"Epoch {epoch+1}/{epochs}.. \"\n",
        "                  f\"Train loss: {running_loss/print_every:.3f}.. \"\n",
        "                  f\"Validation loss: {val_loss/len(dataloaders['valid']):.3f}.. \"\n",
        "                  f\"Validation accuracy: {accuracy/len(dataloaders['valid']):.3f}\")\n",
        "\n",
        "            running_loss = 0\n",
        "            model.train()\n"
      ],
      "metadata": {
        "colab": {
          "base_uri": "https://localhost:8080/"
        },
        "id": "LGPN0IMZiebz",
        "outputId": "c515c9bc-3703-4a5b-b2aa-91e09f499a24"
      },
      "execution_count": null,
      "outputs": [
        {
          "output_type": "stream",
          "name": "stdout",
          "text": [
            "Epoch 1/5.. Train loss: 4.695.. Validation loss: 1.424.. Validation accuracy: 0.638\n",
            "Epoch 1/5.. Train loss: 1.687.. Validation loss: 0.944.. Validation accuracy: 0.741\n",
            "Epoch 2/5.. Train loss: 1.243.. Validation loss: 0.748.. Validation accuracy: 0.795\n",
            "Epoch 2/5.. Train loss: 1.140.. Validation loss: 0.583.. Validation accuracy: 0.837\n",
            "Epoch 2/5.. Train loss: 1.018.. Validation loss: 0.535.. Validation accuracy: 0.864\n",
            "Epoch 3/5.. Train loss: 0.922.. Validation loss: 0.484.. Validation accuracy: 0.873\n"
          ]
        }
      ]
    },
    {
      "cell_type": "markdown",
      "metadata": {
        "id": "v2375L7HXAzC"
      },
      "source": [
        "## Testing your network\n",
        "\n",
        "It's good practice to test your trained network on test data, images the network has never seen either in training or validation. This will give you a good estimate for the model's performance on completely new images. Run the test images through the network and measure the accuracy, the same way you did validation. You should be able to reach around 70% accuracy on the test set if the model has been trained well."
      ]
    },
    {
      "cell_type": "code",
      "execution_count": null,
      "metadata": {
        "id": "TSd-5GFZXAzC"
      },
      "outputs": [],
      "source": [
        "# TODO: Do validation on the test set\n",
        "model.eval()\n",
        "accuracy = 0\n",
        "\n",
        "with torch.no_grad():\n",
        "    for inputs, labels in dataloaders['test']:\n",
        "        inputs, labels = inputs.to(device), labels.to(device)\n",
        "\n",
        "        logps = model(inputs)\n",
        "\n",
        "        ps = torch.exp(logps)\n",
        "\n",
        "        top_p, top_class = ps.topk(1, dim=1)\n",
        "\n",
        "        equals = top_class == labels.view(*top_class.shape)\n",
        "\n",
        "        accuracy += torch.mean(equals.type(torch.FloatTensor)).item()\n",
        "\n",
        "print(f\"Test Accuracy: {accuracy/len(dataloaders['test']):.3f}\")\n"
      ]
    },
    {
      "cell_type": "markdown",
      "metadata": {
        "id": "MiYhfI_VXAzC"
      },
      "source": [
        "## Save the checkpoint\n",
        "\n",
        "Now that your network is trained, save the model so you can load it later for making predictions. You probably want to save other things such as the mapping of classes to indices which you get from one of the image datasets: `image_datasets['train'].class_to_idx`. You can attach this to the model as an attribute which makes inference easier later on.\n",
        "\n",
        "```model.class_to_idx = image_datasets['train'].class_to_idx```\n",
        "\n",
        "Remember that you'll want to completely rebuild the model later so you can use it for inference. Make sure to include any information you need in the checkpoint. If you want to load the model and keep training, you'll want to save the number of epochs as well as the optimizer state, `optimizer.state_dict`. You'll likely want to use this trained model in the next part of the project, so best to save it now."
      ]
    },
    {
      "cell_type": "code",
      "execution_count": null,
      "metadata": {
        "id": "K0_4wkcUXAzD"
      },
      "outputs": [],
      "source": [
        "# TODO: Save the checkpoint\n",
        "model.class_to_idx = image_datasets['train'].class_to_idx\n",
        "\n",
        "checkpoint = {\n",
        "    'input_size': 25088,\n",
        "    'output_size': 102,\n",
        "    'epochs': epochs,\n",
        "    'classifier': model.classifier,\n",
        "    'class_to_idx': model.class_to_idx,\n",
        "    'state_dict': model.state_dict(),\n",
        "    'optimizer_state_dict': optimizer.state_dict()\n",
        "}\n",
        "\n",
        "# Saving checkpoint to a file\n",
        "torch.save(checkpoint, 'checkpoint.pth')\n"
      ]
    },
    {
      "cell_type": "markdown",
      "metadata": {
        "id": "rSFodNpiXAzD"
      },
      "source": [
        "## Loading the checkpoint\n",
        "\n",
        "At this point it's good to write a function that can load a checkpoint and rebuild the model. That way you can come back to this project and keep working on it without having to retrain the network."
      ]
    },
    {
      "cell_type": "code",
      "execution_count": null,
      "metadata": {
        "id": "p__sUpE3XAzD"
      },
      "outputs": [],
      "source": [
        "# TODO: Write a function that loads a checkpoint and rebuilds the model\n",
        "def load_checkpoint(filepath):\n",
        "    checkpoint = torch.load(filepath)\n",
        "\n",
        "    model = models.vgg16(pretrained=True)\n",
        "\n",
        "    for param in model.parameters():\n",
        "        param.requires_grad = False\n",
        "\n",
        "    model.classifier = checkpoint['classifier']\n",
        "\n",
        "    model.class_to_idx = checkpoint['class_to_idx']\n",
        "\n",
        "    model.load_state_dict(checkpoint['state_dict'])\n",
        "\n",
        "    return model\n",
        "\n",
        "model = load_checkpoint('checkpoint.pth')\n",
        "\n",
        "print(model)\n"
      ]
    },
    {
      "cell_type": "markdown",
      "metadata": {
        "id": "8XjmWd3GXAzD"
      },
      "source": [
        "# Inference for classification\n",
        "\n",
        "Now you'll write a function to use a trained network for inference. That is, you'll pass an image into the network and predict the class of the flower in the image. Write a function called `predict` that takes an image and a model, then returns the top $K$ most likely classes along with the probabilities. It should look like\n",
        "\n",
        "```python\n",
        "probs, classes = predict(image_path, model)\n",
        "print(probs)\n",
        "print(classes)\n",
        "> [ 0.01558163  0.01541934  0.01452626  0.01443549  0.01407339]\n",
        "> ['70', '3', '45', '62', '55']\n",
        "```\n",
        "\n",
        "First you'll need to handle processing the input image such that it can be used in your network.\n",
        "\n",
        "## Image Preprocessing\n",
        "\n",
        "You'll want to use `PIL` to load the image ([documentation](https://pillow.readthedocs.io/en/latest/reference/Image.html)). It's best to write a function that preprocesses the image so it can be used as input for the model. This function should process the images in the same manner used for training.\n",
        "\n",
        "First, resize the images where the shortest side is 256 pixels, keeping the aspect ratio. This can be done with the [`thumbnail`](http://pillow.readthedocs.io/en/3.1.x/reference/Image.html#PIL.Image.Image.thumbnail) or [`resize`](http://pillow.readthedocs.io/en/3.1.x/reference/Image.html#PIL.Image.Image.thumbnail) methods. Then you'll need to crop out the center 224x224 portion of the image.\n",
        "\n",
        "Color channels of images are typically encoded as integers 0-255, but the model expected floats 0-1. You'll need to convert the values. It's easiest with a Numpy array, which you can get from a PIL image like so `np_image = np.array(pil_image)`.\n",
        "\n",
        "As before, the network expects the images to be normalized in a specific way. For the means, it's `[0.485, 0.456, 0.406]` and for the standard deviations `[0.229, 0.224, 0.225]`. You'll want to subtract the means from each color channel, then divide by the standard deviation.\n",
        "\n",
        "And finally, PyTorch expects the color channel to be the first dimension but it's the third dimension in the PIL image and Numpy array. You can reorder dimensions using [`ndarray.transpose`](https://docs.scipy.org/doc/numpy-1.13.0/reference/generated/numpy.ndarray.transpose.html). The color channel needs to be first and retain the order of the other two dimensions."
      ]
    },
    {
      "cell_type": "code",
      "execution_count": null,
      "metadata": {
        "id": "yt60XfhPXAzD"
      },
      "outputs": [],
      "source": [
        "def process_image(image):\n",
        "    ''' Scales, crops, and normalizes a PIL image for a PyTorch model,\n",
        "        returns an Numpy array\n",
        "    '''\n",
        "\n",
        "    # TODO: Process a PIL image for use in a PyTorch model\n",
        "    def process_image(image_path):\n",
        "        ''' Scales, crops, and normalizes a PIL image for a PyTorch model,\n",
        "            returns a Numpy array\n",
        "        '''\n",
        "\n",
        "        pil_image = Image.open(image_path)\n",
        "\n",
        "        pil_image.thumbnail((256, 256))\n",
        "\n",
        "        width, height = pil_image.size\n",
        "        new_width = 224\n",
        "        new_height = 224\n",
        "        left = (width - new_width)/2\n",
        "        top = (height - new_height)/2\n",
        "        right = (width + new_width)/2\n",
        "        bottom = (height + new_height)/2\n",
        "        pil_image = pil_image.crop((left, top, right, bottom))\n",
        "\n",
        "        np_image = np.array(pil_image) / 255.0\n",
        "\n",
        "        mean = np.array([0.485, 0.456, 0.406])\n",
        "        std = np.array([0.229, 0.224, 0.225])\n",
        "        np_image = (np_image - mean) / std\n",
        "\n",
        "        np_image = np_image.transpose((2, 0, 1))\n",
        "\n",
        "        return np_image\n",
        "\n",
        "    return process_image"
      ]
    },
    {
      "cell_type": "markdown",
      "metadata": {
        "id": "rFU7zLZ9XAzD"
      },
      "source": [
        "To check your work, the function below converts a PyTorch tensor and displays it in the notebook. If your `process_image` function works, running the output through this function should return the original image (except for the cropped out portions)."
      ]
    },
    {
      "cell_type": "code",
      "execution_count": null,
      "metadata": {
        "id": "ZkzzNrioXAzE"
      },
      "outputs": [],
      "source": [
        "def imshow(image, ax=None, title=None):\n",
        "    \"\"\"Imshow for Tensor.\"\"\"\n",
        "    if ax is None:\n",
        "        fig, ax = plt.subplots()\n",
        "\n",
        "    # PyTorch tensors assume the color channel is the first dimension\n",
        "    # but matplotlib assumes is the third dimension\n",
        "    image = image.numpy().transpose((1, 2, 0))\n",
        "\n",
        "    # Undo preprocessing\n",
        "    mean = np.array([0.485, 0.456, 0.406])\n",
        "    std = np.array([0.229, 0.224, 0.225])\n",
        "    image = std * image + mean\n",
        "\n",
        "    # Image needs to be clipped between 0 and 1 or it looks like noise when displayed\n",
        "    image = np.clip(image, 0, 1)\n",
        "\n",
        "    ax.imshow(image)\n",
        "\n",
        "    return ax"
      ]
    },
    {
      "cell_type": "markdown",
      "metadata": {
        "id": "JbRsS3i5XAzE"
      },
      "source": [
        "## Class Prediction\n",
        "\n",
        "Once you can get images in the correct format, it's time to write a function for making predictions with your model. A common practice is to predict the top 5 or so (usually called top-$K$) most probable classes. You'll want to calculate the class probabilities then find the $K$ largest values.\n",
        "\n",
        "To get the top $K$ largest values in a tensor use [`x.topk(k)`](http://pytorch.org/docs/master/torch.html#torch.topk). This method returns both the highest `k` probabilities and the indices of those probabilities corresponding to the classes. You need to convert from these indices to the actual class labels using `class_to_idx` which hopefully you added to the model or from an `ImageFolder` you used to load the data ([see here](#Save-the-checkpoint)). Make sure to invert the dictionary so you get a mapping from index to class as well.\n",
        "\n",
        "Again, this method should take a path to an image and a model checkpoint, then return the probabilities and classes.\n",
        "\n",
        "```python\n",
        "probs, classes = predict(image_path, model)\n",
        "print(probs)\n",
        "print(classes)\n",
        "> [ 0.01558163  0.01541934  0.01452626  0.01443549  0.01407339]\n",
        "> ['70', '3', '45', '62', '55']\n",
        "```"
      ]
    },
    {
      "cell_type": "code",
      "execution_count": null,
      "metadata": {
        "id": "nB4-d6abXAzE"
      },
      "outputs": [],
      "source": [
        "def predict(image_path, model, topk=5):\n",
        "    ''' Predict the class (or classes) of an image using a trained deep learning model.\n",
        "    '''\n",
        "\n",
        "    # TODO: Implement the code to predict the class from an image file\n",
        "    def predict(image_path, model, topk=5):\n",
        "    ''' Predict the class (or classes) of an image using a trained deep learning model.\n",
        "    '''\n",
        "    model.eval()\n",
        "\n",
        "\n",
        "    image = process_image(image_path)\n",
        "\n",
        "    image = torch.tensor(image).unsqueeze(0).float()\n",
        "\n",
        "    device = torch.device(\"cuda\" if torch.cuda.is_available() else \"cpu\")\n",
        "    image = image.to(device)\n",
        "    model = model.to(device)\n",
        "\n",
        "    with torch.no_grad():\n",
        "        outputs = model(image)\n",
        "\n",
        "    probabilities = torch.exp(outputs)\n",
        "    top_probs, top_indices = probabilities.topk(topk, dim=1)\n",
        "\n",
        "    top_probs = top_probs.cpu().numpy()[0]\n",
        "    top_indices = top_indices.cpu().numpy()[0]\n",
        "\n",
        "\n",
        "    idx_to_class = {v: k for k, v in model.class_to_idx.items()}\n",
        "\n",
        "    top_classes = [idx_to_class[index] for index in top_indices]\n",
        "\n",
        "    return top_probs, top_classes\n"
      ]
    },
    {
      "cell_type": "markdown",
      "metadata": {
        "id": "gTFYaNOJXAzE"
      },
      "source": [
        "## Sanity Checking\n",
        "\n",
        "Now that you can use a trained model for predictions, check to make sure it makes sense. Even if the testing accuracy is high, it's always good to check that there aren't obvious bugs. Use `matplotlib` to plot the probabilities for the top 5 classes as a bar graph, along with the input image. It should look like this:\n",
        "\n",
        "<img src='https://github.com/idarapatrick/aipnd-project/blob/master/assets/inference_example.png?raw=1' width=300px>\n",
        "\n",
        "You can convert from the class integer encoding to actual flower names with the `cat_to_name.json` file (should have been loaded earlier in the notebook). To show a PyTorch tensor as an image, use the `imshow` function defined above."
      ]
    },
    {
      "cell_type": "code",
      "execution_count": null,
      "metadata": {
        "id": "-q6l36rYXAzE"
      },
      "outputs": [],
      "source": [
        "# TODO: Display an image along with the top 5 classes\n",
        "def display_prediction(image_path, model, cat_to_name, topk=5):\n",
        "    ''' Displays an image along with the top K predicted classes and their probabilities.\n",
        "    '''\n",
        "\n",
        "    probs, classes = predict(image_path, model, topk)\n",
        "\n",
        "    class_names = [cat_to_name[str(cls)] for cls in classes]\n",
        "\n",
        "    fig, (ax1, ax2) = plt.subplots(figsize=(8, 6), nrows=2)\n",
        "\n",
        "    imshow(process_image(image_path), ax=ax1)\n",
        "    ax1.axis('off')\n",
        "    ax1.set_title('Input Image')\n",
        "    ax2.barh(class_names, probs)\n",
        "    ax2.set_xlabel('Probability')\n",
        "    ax2.set_title('Top {} Predictions'.format(topk))\n",
        "    ax2.invert_yaxis()\n",
        "\n",
        "    plt.tight_layout()\n",
        "    plt.show()"
      ]
    },
    {
      "cell_type": "code",
      "source": [
        "!rm checkpoint.pth"
      ],
      "metadata": {
        "id": "lCAx_AB9jJMs"
      },
      "execution_count": null,
      "outputs": []
    }
  ],
  "metadata": {
    "kernelspec": {
      "display_name": "Python 3",
      "language": "python",
      "name": "python3"
    },
    "language_info": {
      "codemirror_mode": {
        "name": "ipython",
        "version": 3
      },
      "file_extension": ".py",
      "mimetype": "text/x-python",
      "name": "python",
      "nbconvert_exporter": "python",
      "pygments_lexer": "ipython3",
      "version": "3.6.6"
    },
    "colab": {
      "provenance": [],
      "toc_visible": true,
      "include_colab_link": true
    }
  },
  "nbformat": 4,
  "nbformat_minor": 0
}